{
 "cells": [
  {
   "cell_type": "code",
   "execution_count": 1,
   "id": "8ff9652b",
   "metadata": {},
   "outputs": [
    {
     "data": {
      "text/html": [
       "<div>\n",
       "<style scoped>\n",
       "    .dataframe tbody tr th:only-of-type {\n",
       "        vertical-align: middle;\n",
       "    }\n",
       "\n",
       "    .dataframe tbody tr th {\n",
       "        vertical-align: top;\n",
       "    }\n",
       "\n",
       "    .dataframe thead th {\n",
       "        text-align: right;\n",
       "    }\n",
       "</style>\n",
       "<table border=\"1\" class=\"dataframe\">\n",
       "  <thead>\n",
       "    <tr style=\"text-align: right;\">\n",
       "      <th></th>\n",
       "      <th>review_id</th>\n",
       "      <th>user_id</th>\n",
       "      <th>business_id</th>\n",
       "      <th>stars_x</th>\n",
       "      <th>useful</th>\n",
       "      <th>funny</th>\n",
       "      <th>cool</th>\n",
       "      <th>text</th>\n",
       "      <th>date</th>\n",
       "      <th>name</th>\n",
       "      <th>...</th>\n",
       "      <th>state</th>\n",
       "      <th>postal_code</th>\n",
       "      <th>latitude</th>\n",
       "      <th>longitude</th>\n",
       "      <th>stars_y</th>\n",
       "      <th>review_count</th>\n",
       "      <th>is_open</th>\n",
       "      <th>attributes</th>\n",
       "      <th>categories</th>\n",
       "      <th>hours</th>\n",
       "    </tr>\n",
       "  </thead>\n",
       "  <tbody>\n",
       "    <tr>\n",
       "      <th>0</th>\n",
       "      <td>pUycOfUwM8vqX7KjRRhUEA</td>\n",
       "      <td>59MxRhNVhU9MYndMkz0wtw</td>\n",
       "      <td>gebiRewfieSdtt17PTW6Zg</td>\n",
       "      <td>3</td>\n",
       "      <td>0</td>\n",
       "      <td>0</td>\n",
       "      <td>0</td>\n",
       "      <td>Had a party of 6 here for hibachi. Our waitres...</td>\n",
       "      <td>2016-07-25 07:31:06</td>\n",
       "      <td>Hibachi Steak House &amp; Sushi Bar</td>\n",
       "      <td>...</td>\n",
       "      <td>CA</td>\n",
       "      <td>93101</td>\n",
       "      <td>34.416984</td>\n",
       "      <td>-119.695556</td>\n",
       "      <td>3.5</td>\n",
       "      <td>488</td>\n",
       "      <td>1</td>\n",
       "      <td>{'Corkage': 'False', 'RestaurantsTakeOut': 'Tr...</td>\n",
       "      <td>Steakhouses, Sushi Bars, Restaurants, Japanese</td>\n",
       "      <td>{'Monday': '0:0-0:0'}</td>\n",
       "    </tr>\n",
       "    <tr>\n",
       "      <th>1</th>\n",
       "      <td>L0jv8c2FbpWSlfNC6bbUEA</td>\n",
       "      <td>bFPdtzu11Oi0f92EAcjqmg</td>\n",
       "      <td>IDtLPgUrqorrpqSLdfMhZQ</td>\n",
       "      <td>5</td>\n",
       "      <td>0</td>\n",
       "      <td>0</td>\n",
       "      <td>0</td>\n",
       "      <td>What a great addition to the Funk Zone!  Grab ...</td>\n",
       "      <td>2016-10-13 22:50:47</td>\n",
       "      <td>Helena Avenue Bakery</td>\n",
       "      <td>...</td>\n",
       "      <td>CA</td>\n",
       "      <td>93101</td>\n",
       "      <td>34.414445</td>\n",
       "      <td>-119.690672</td>\n",
       "      <td>4.0</td>\n",
       "      <td>389</td>\n",
       "      <td>1</td>\n",
       "      <td>{'RestaurantsTakeOut': 'True', 'NoiseLevel': \"...</td>\n",
       "      <td>Food, Restaurants, Salad, Coffee &amp; Tea, Breakf...</td>\n",
       "      <td>{'Monday': '0:0-0:0', 'Tuesday': '8:0-14:0', '...</td>\n",
       "    </tr>\n",
       "    <tr>\n",
       "      <th>2</th>\n",
       "      <td>2u5Skti5mZam_-XTKPelvA</td>\n",
       "      <td>IMd3NQbclta91pFKk3AJZg</td>\n",
       "      <td>qO9dNNIvNbCBd8ZgjxMxgQ</td>\n",
       "      <td>5</td>\n",
       "      <td>0</td>\n",
       "      <td>0</td>\n",
       "      <td>0</td>\n",
       "      <td>Farmhouse, rustic, chic.Helpful staff with gre...</td>\n",
       "      <td>2017-04-08 00:33:11</td>\n",
       "      <td>HOME Santa Barbara</td>\n",
       "      <td>...</td>\n",
       "      <td>CA</td>\n",
       "      <td>93101</td>\n",
       "      <td>34.414912</td>\n",
       "      <td>-119.694171</td>\n",
       "      <td>4.5</td>\n",
       "      <td>13</td>\n",
       "      <td>1</td>\n",
       "      <td>{'WheelchairAccessible': 'True', 'BikeParking'...</td>\n",
       "      <td>Home &amp; Garden, Furniture Stores, Home Decor, S...</td>\n",
       "      <td>{'Monday': '9:0-17:0', 'Tuesday': '9:0-17:0', ...</td>\n",
       "    </tr>\n",
       "    <tr>\n",
       "      <th>3</th>\n",
       "      <td>4zopEEPqfwm-c_FNpeHZYw</td>\n",
       "      <td>JYYYKt6TdVA4ng9lLcXt_g</td>\n",
       "      <td>SZU9c8V2GuREDN5KgyHFJw</td>\n",
       "      <td>5</td>\n",
       "      <td>0</td>\n",
       "      <td>0</td>\n",
       "      <td>0</td>\n",
       "      <td>We were a bit weary about trying the Shellfish...</td>\n",
       "      <td>2016-05-31 02:14:54</td>\n",
       "      <td>Santa Barbara Shellfish Company</td>\n",
       "      <td>...</td>\n",
       "      <td>CA</td>\n",
       "      <td>93101</td>\n",
       "      <td>34.408715</td>\n",
       "      <td>-119.685019</td>\n",
       "      <td>4.0</td>\n",
       "      <td>2404</td>\n",
       "      <td>1</td>\n",
       "      <td>{'OutdoorSeating': 'True', 'RestaurantsAttire'...</td>\n",
       "      <td>Live/Raw Food, Restaurants, Seafood, Beer Bar,...</td>\n",
       "      <td>{'Monday': '0:0-0:0', 'Tuesday': '11:0-21:0', ...</td>\n",
       "    </tr>\n",
       "    <tr>\n",
       "      <th>4</th>\n",
       "      <td>HuWEnZr7-0HveaqXxyywgg</td>\n",
       "      <td>Eb8LgZArKmW0KgW6lTni-w</td>\n",
       "      <td>YbnJYHNp_fHbI-hcFg48vQ</td>\n",
       "      <td>5</td>\n",
       "      <td>2</td>\n",
       "      <td>0</td>\n",
       "      <td>2</td>\n",
       "      <td>The kayaking tour at the Santa Cruz Island was...</td>\n",
       "      <td>2009-08-03 21:55:27</td>\n",
       "      <td>Santa Barbara Adventure Company</td>\n",
       "      <td>...</td>\n",
       "      <td>CA</td>\n",
       "      <td>93101</td>\n",
       "      <td>34.417681</td>\n",
       "      <td>-119.694349</td>\n",
       "      <td>5.0</td>\n",
       "      <td>195</td>\n",
       "      <td>1</td>\n",
       "      <td>{'GoodForKids': 'True', 'DogsAllowed': 'True',...</td>\n",
       "      <td>Tours, Boating, Hotels &amp; Travel, Rafting/Kayak...</td>\n",
       "      <td>{'Monday': '0:0-0:0', 'Tuesday': '8:0-17:0', '...</td>\n",
       "    </tr>\n",
       "  </tbody>\n",
       "</table>\n",
       "<p>5 rows × 22 columns</p>\n",
       "</div>"
      ],
      "text/plain": [
       "                review_id                 user_id             business_id  \\\n",
       "0  pUycOfUwM8vqX7KjRRhUEA  59MxRhNVhU9MYndMkz0wtw  gebiRewfieSdtt17PTW6Zg   \n",
       "1  L0jv8c2FbpWSlfNC6bbUEA  bFPdtzu11Oi0f92EAcjqmg  IDtLPgUrqorrpqSLdfMhZQ   \n",
       "2  2u5Skti5mZam_-XTKPelvA  IMd3NQbclta91pFKk3AJZg  qO9dNNIvNbCBd8ZgjxMxgQ   \n",
       "3  4zopEEPqfwm-c_FNpeHZYw  JYYYKt6TdVA4ng9lLcXt_g  SZU9c8V2GuREDN5KgyHFJw   \n",
       "4  HuWEnZr7-0HveaqXxyywgg  Eb8LgZArKmW0KgW6lTni-w  YbnJYHNp_fHbI-hcFg48vQ   \n",
       "\n",
       "   stars_x  useful  funny  cool  \\\n",
       "0        3       0      0     0   \n",
       "1        5       0      0     0   \n",
       "2        5       0      0     0   \n",
       "3        5       0      0     0   \n",
       "4        5       2      0     2   \n",
       "\n",
       "                                                text                 date  \\\n",
       "0  Had a party of 6 here for hibachi. Our waitres...  2016-07-25 07:31:06   \n",
       "1  What a great addition to the Funk Zone!  Grab ...  2016-10-13 22:50:47   \n",
       "2  Farmhouse, rustic, chic.Helpful staff with gre...  2017-04-08 00:33:11   \n",
       "3  We were a bit weary about trying the Shellfish...  2016-05-31 02:14:54   \n",
       "4  The kayaking tour at the Santa Cruz Island was...  2009-08-03 21:55:27   \n",
       "\n",
       "                              name  ... state postal_code   latitude  \\\n",
       "0  Hibachi Steak House & Sushi Bar  ...    CA       93101  34.416984   \n",
       "1             Helena Avenue Bakery  ...    CA       93101  34.414445   \n",
       "2               HOME Santa Barbara  ...    CA       93101  34.414912   \n",
       "3  Santa Barbara Shellfish Company  ...    CA       93101  34.408715   \n",
       "4  Santa Barbara Adventure Company  ...    CA       93101  34.417681   \n",
       "\n",
       "    longitude  stars_y  review_count  is_open  \\\n",
       "0 -119.695556      3.5           488        1   \n",
       "1 -119.690672      4.0           389        1   \n",
       "2 -119.694171      4.5            13        1   \n",
       "3 -119.685019      4.0          2404        1   \n",
       "4 -119.694349      5.0           195        1   \n",
       "\n",
       "                                          attributes  \\\n",
       "0  {'Corkage': 'False', 'RestaurantsTakeOut': 'Tr...   \n",
       "1  {'RestaurantsTakeOut': 'True', 'NoiseLevel': \"...   \n",
       "2  {'WheelchairAccessible': 'True', 'BikeParking'...   \n",
       "3  {'OutdoorSeating': 'True', 'RestaurantsAttire'...   \n",
       "4  {'GoodForKids': 'True', 'DogsAllowed': 'True',...   \n",
       "\n",
       "                                          categories  \\\n",
       "0     Steakhouses, Sushi Bars, Restaurants, Japanese   \n",
       "1  Food, Restaurants, Salad, Coffee & Tea, Breakf...   \n",
       "2  Home & Garden, Furniture Stores, Home Decor, S...   \n",
       "3  Live/Raw Food, Restaurants, Seafood, Beer Bar,...   \n",
       "4  Tours, Boating, Hotels & Travel, Rafting/Kayak...   \n",
       "\n",
       "                                               hours  \n",
       "0                              {'Monday': '0:0-0:0'}  \n",
       "1  {'Monday': '0:0-0:0', 'Tuesday': '8:0-14:0', '...  \n",
       "2  {'Monday': '9:0-17:0', 'Tuesday': '9:0-17:0', ...  \n",
       "3  {'Monday': '0:0-0:0', 'Tuesday': '11:0-21:0', ...  \n",
       "4  {'Monday': '0:0-0:0', 'Tuesday': '8:0-17:0', '...  \n",
       "\n",
       "[5 rows x 22 columns]"
      ]
     },
     "execution_count": 1,
     "metadata": {},
     "output_type": "execute_result"
    }
   ],
   "source": [
    "import pandas as pd\n",
    "import numpy as np\n",
    "import nltk\n",
    "import re\n",
    "import string\n",
    "import math\n",
    "from sklearn.feature_extraction.text import CountVectorizer\n",
    "from sklearn.model_selection import train_test_split, cross_val_score\n",
    "from sklearn.metrics import classification_report\n",
    "from sklearn.metrics import confusion_matrix, accuracy_score, roc_auc_score, roc_curve\n",
    "from sklearn.feature_extraction.text import CountVectorizer\n",
    "from sklearn.feature_extraction.text import TfidfTransformer\n",
    "from sklearn.feature_extraction.text import TfidfVectorizer\n",
    "\n",
    "#Read file of joined Yelp Business & Review data\n",
    "data = pd.read_csv('../Output_folder/3_table.csv')\n",
    "data.head(5)"
   ]
  },
  {
   "cell_type": "code",
   "execution_count": 2,
   "id": "40b407f4",
   "metadata": {},
   "outputs": [
    {
     "data": {
      "text/plain": [
       "review_id        object\n",
       "user_id          object\n",
       "business_id      object\n",
       "stars_x           int64\n",
       "useful            int64\n",
       "funny             int64\n",
       "cool              int64\n",
       "text             object\n",
       "date             object\n",
       "name             object\n",
       "address          object\n",
       "city             object\n",
       "state            object\n",
       "postal_code       int64\n",
       "latitude        float64\n",
       "longitude       float64\n",
       "stars_y         float64\n",
       "review_count      int64\n",
       "is_open           int64\n",
       "attributes       object\n",
       "categories       object\n",
       "hours            object\n",
       "dtype: object"
      ]
     },
     "execution_count": 2,
     "metadata": {},
     "output_type": "execute_result"
    }
   ],
   "source": [
    "data.dtypes"
   ]
  },
  {
   "cell_type": "code",
   "execution_count": 4,
   "id": "85b8a35e",
   "metadata": {},
   "outputs": [
    {
     "data": {
      "text/html": [
       "<div>\n",
       "<style scoped>\n",
       "    .dataframe tbody tr th:only-of-type {\n",
       "        vertical-align: middle;\n",
       "    }\n",
       "\n",
       "    .dataframe tbody tr th {\n",
       "        vertical-align: top;\n",
       "    }\n",
       "\n",
       "    .dataframe thead th {\n",
       "        text-align: right;\n",
       "    }\n",
       "</style>\n",
       "<table border=\"1\" class=\"dataframe\">\n",
       "  <thead>\n",
       "    <tr style=\"text-align: right;\">\n",
       "      <th></th>\n",
       "      <th>review_id</th>\n",
       "      <th>text</th>\n",
       "      <th>stars_x</th>\n",
       "    </tr>\n",
       "  </thead>\n",
       "  <tbody>\n",
       "    <tr>\n",
       "      <th>0</th>\n",
       "      <td>pUycOfUwM8vqX7KjRRhUEA</td>\n",
       "      <td>Had a party of 6 here for hibachi. Our waitres...</td>\n",
       "      <td>3</td>\n",
       "    </tr>\n",
       "    <tr>\n",
       "      <th>1</th>\n",
       "      <td>L0jv8c2FbpWSlfNC6bbUEA</td>\n",
       "      <td>What a great addition to the Funk Zone!  Grab ...</td>\n",
       "      <td>5</td>\n",
       "    </tr>\n",
       "    <tr>\n",
       "      <th>2</th>\n",
       "      <td>2u5Skti5mZam_-XTKPelvA</td>\n",
       "      <td>Farmhouse, rustic, chic.Helpful staff with gre...</td>\n",
       "      <td>5</td>\n",
       "    </tr>\n",
       "    <tr>\n",
       "      <th>3</th>\n",
       "      <td>4zopEEPqfwm-c_FNpeHZYw</td>\n",
       "      <td>We were a bit weary about trying the Shellfish...</td>\n",
       "      <td>5</td>\n",
       "    </tr>\n",
       "    <tr>\n",
       "      <th>4</th>\n",
       "      <td>HuWEnZr7-0HveaqXxyywgg</td>\n",
       "      <td>The kayaking tour at the Santa Cruz Island was...</td>\n",
       "      <td>5</td>\n",
       "    </tr>\n",
       "  </tbody>\n",
       "</table>\n",
       "</div>"
      ],
      "text/plain": [
       "                review_id                                               text  \\\n",
       "0  pUycOfUwM8vqX7KjRRhUEA  Had a party of 6 here for hibachi. Our waitres...   \n",
       "1  L0jv8c2FbpWSlfNC6bbUEA  What a great addition to the Funk Zone!  Grab ...   \n",
       "2  2u5Skti5mZam_-XTKPelvA  Farmhouse, rustic, chic.Helpful staff with gre...   \n",
       "3  4zopEEPqfwm-c_FNpeHZYw  We were a bit weary about trying the Shellfish...   \n",
       "4  HuWEnZr7-0HveaqXxyywgg  The kayaking tour at the Santa Cruz Island was...   \n",
       "\n",
       "   stars_x  \n",
       "0        3  \n",
       "1        5  \n",
       "2        5  \n",
       "3        5  \n",
       "4        5  "
      ]
     },
     "execution_count": 4,
     "metadata": {},
     "output_type": "execute_result"
    }
   ],
   "source": [
    "df = data[['review_id','text','stars_x']]\n",
    "df.head()"
   ]
  },
  {
   "cell_type": "code",
   "execution_count": 5,
   "id": "b8da6cb1",
   "metadata": {},
   "outputs": [
    {
     "data": {
      "text/plain": [
       "(2346, 3)"
      ]
     },
     "execution_count": 5,
     "metadata": {},
     "output_type": "execute_result"
    }
   ],
   "source": [
    "df.shape"
   ]
  },
  {
   "cell_type": "code",
   "execution_count": 13,
   "id": "c8f9eae4",
   "metadata": {},
   "outputs": [
    {
     "data": {
      "text/html": [
       "<div>\n",
       "<style scoped>\n",
       "    .dataframe tbody tr th:only-of-type {\n",
       "        vertical-align: middle;\n",
       "    }\n",
       "\n",
       "    .dataframe tbody tr th {\n",
       "        vertical-align: top;\n",
       "    }\n",
       "\n",
       "    .dataframe thead th {\n",
       "        text-align: right;\n",
       "    }\n",
       "</style>\n",
       "<table border=\"1\" class=\"dataframe\">\n",
       "  <thead>\n",
       "    <tr style=\"text-align: right;\">\n",
       "      <th></th>\n",
       "      <th>review_id</th>\n",
       "      <th>text</th>\n",
       "      <th>stars_x</th>\n",
       "      <th>stars</th>\n",
       "      <th>label</th>\n",
       "    </tr>\n",
       "  </thead>\n",
       "  <tbody>\n",
       "    <tr>\n",
       "      <th>0</th>\n",
       "      <td>L0jv8c2FbpWSlfNC6bbUEA</td>\n",
       "      <td>What a great addition to the Funk Zone!  Grab ...</td>\n",
       "      <td>5</td>\n",
       "      <td>5</td>\n",
       "      <td>1</td>\n",
       "    </tr>\n",
       "    <tr>\n",
       "      <th>1</th>\n",
       "      <td>2u5Skti5mZam_-XTKPelvA</td>\n",
       "      <td>Farmhouse, rustic, chic.Helpful staff with gre...</td>\n",
       "      <td>5</td>\n",
       "      <td>5</td>\n",
       "      <td>1</td>\n",
       "    </tr>\n",
       "    <tr>\n",
       "      <th>2</th>\n",
       "      <td>4zopEEPqfwm-c_FNpeHZYw</td>\n",
       "      <td>We were a bit weary about trying the Shellfish...</td>\n",
       "      <td>5</td>\n",
       "      <td>5</td>\n",
       "      <td>1</td>\n",
       "    </tr>\n",
       "    <tr>\n",
       "      <th>3</th>\n",
       "      <td>HuWEnZr7-0HveaqXxyywgg</td>\n",
       "      <td>The kayaking tour at the Santa Cruz Island was...</td>\n",
       "      <td>5</td>\n",
       "      <td>5</td>\n",
       "      <td>1</td>\n",
       "    </tr>\n",
       "    <tr>\n",
       "      <th>4</th>\n",
       "      <td>GK5JEpizD-nDGXsJUYVLTg</td>\n",
       "      <td>The court house is very old and the art is gre...</td>\n",
       "      <td>4</td>\n",
       "      <td>4</td>\n",
       "      <td>1</td>\n",
       "    </tr>\n",
       "  </tbody>\n",
       "</table>\n",
       "</div>"
      ],
      "text/plain": [
       "                review_id                                               text  \\\n",
       "0  L0jv8c2FbpWSlfNC6bbUEA  What a great addition to the Funk Zone!  Grab ...   \n",
       "1  2u5Skti5mZam_-XTKPelvA  Farmhouse, rustic, chic.Helpful staff with gre...   \n",
       "2  4zopEEPqfwm-c_FNpeHZYw  We were a bit weary about trying the Shellfish...   \n",
       "3  HuWEnZr7-0HveaqXxyywgg  The kayaking tour at the Santa Cruz Island was...   \n",
       "4  GK5JEpizD-nDGXsJUYVLTg  The court house is very old and the art is gre...   \n",
       "\n",
       "   stars_x  stars  label  \n",
       "0        5      5      1  \n",
       "1        5      5      1  \n",
       "2        5      5      1  \n",
       "3        5      5      1  \n",
       "4        4      4      1  "
      ]
     },
     "execution_count": 13,
     "metadata": {},
     "output_type": "execute_result"
    }
   ],
   "source": [
    "df=df.dropna()\n",
    "df = df.reset_index(drop=True)\n",
    "df.head()"
   ]
  },
  {
   "cell_type": "code",
   "execution_count": 14,
   "id": "720ab433",
   "metadata": {},
   "outputs": [
    {
     "data": {
      "text/plain": [
       "(2105, 5)"
      ]
     },
     "execution_count": 14,
     "metadata": {},
     "output_type": "execute_result"
    }
   ],
   "source": [
    "df.shape"
   ]
  },
  {
   "cell_type": "code",
   "execution_count": 15,
   "id": "4e4cb124",
   "metadata": {},
   "outputs": [
    {
     "data": {
      "text/html": [
       "<div>\n",
       "<style scoped>\n",
       "    .dataframe tbody tr th:only-of-type {\n",
       "        vertical-align: middle;\n",
       "    }\n",
       "\n",
       "    .dataframe tbody tr th {\n",
       "        vertical-align: top;\n",
       "    }\n",
       "\n",
       "    .dataframe thead th {\n",
       "        text-align: right;\n",
       "    }\n",
       "</style>\n",
       "<table border=\"1\" class=\"dataframe\">\n",
       "  <thead>\n",
       "    <tr style=\"text-align: right;\">\n",
       "      <th></th>\n",
       "      <th>review_id</th>\n",
       "      <th>text</th>\n",
       "      <th>stars_x</th>\n",
       "      <th>stars</th>\n",
       "      <th>label</th>\n",
       "    </tr>\n",
       "  </thead>\n",
       "  <tbody>\n",
       "    <tr>\n",
       "      <th>0</th>\n",
       "      <td>L0jv8c2FbpWSlfNC6bbUEA</td>\n",
       "      <td>What a great addition to the Funk Zone!  Grab ...</td>\n",
       "      <td>5</td>\n",
       "      <td>5</td>\n",
       "      <td>1</td>\n",
       "    </tr>\n",
       "    <tr>\n",
       "      <th>1</th>\n",
       "      <td>2u5Skti5mZam_-XTKPelvA</td>\n",
       "      <td>Farmhouse, rustic, chic.Helpful staff with gre...</td>\n",
       "      <td>5</td>\n",
       "      <td>5</td>\n",
       "      <td>1</td>\n",
       "    </tr>\n",
       "    <tr>\n",
       "      <th>2</th>\n",
       "      <td>4zopEEPqfwm-c_FNpeHZYw</td>\n",
       "      <td>We were a bit weary about trying the Shellfish...</td>\n",
       "      <td>5</td>\n",
       "      <td>5</td>\n",
       "      <td>1</td>\n",
       "    </tr>\n",
       "    <tr>\n",
       "      <th>3</th>\n",
       "      <td>HuWEnZr7-0HveaqXxyywgg</td>\n",
       "      <td>The kayaking tour at the Santa Cruz Island was...</td>\n",
       "      <td>5</td>\n",
       "      <td>5</td>\n",
       "      <td>1</td>\n",
       "    </tr>\n",
       "    <tr>\n",
       "      <th>4</th>\n",
       "      <td>GK5JEpizD-nDGXsJUYVLTg</td>\n",
       "      <td>The court house is very old and the art is gre...</td>\n",
       "      <td>4</td>\n",
       "      <td>4</td>\n",
       "      <td>1</td>\n",
       "    </tr>\n",
       "  </tbody>\n",
       "</table>\n",
       "</div>"
      ],
      "text/plain": [
       "                review_id                                               text  \\\n",
       "0  L0jv8c2FbpWSlfNC6bbUEA  What a great addition to the Funk Zone!  Grab ...   \n",
       "1  2u5Skti5mZam_-XTKPelvA  Farmhouse, rustic, chic.Helpful staff with gre...   \n",
       "2  4zopEEPqfwm-c_FNpeHZYw  We were a bit weary about trying the Shellfish...   \n",
       "3  HuWEnZr7-0HveaqXxyywgg  The kayaking tour at the Santa Cruz Island was...   \n",
       "4  GK5JEpizD-nDGXsJUYVLTg  The court house is very old and the art is gre...   \n",
       "\n",
       "   stars_x  stars  label  \n",
       "0        5      5      1  \n",
       "1        5      5      1  \n",
       "2        5      5      1  \n",
       "3        5      5      1  \n",
       "4        4      4      1  "
      ]
     },
     "execution_count": 15,
     "metadata": {},
     "output_type": "execute_result"
    }
   ],
   "source": [
    "# Label the 4 & 5 star reviews as positive ('1') and \n",
    "# label the 1 & 2 star reviews as negative ('0'). \n",
    "# Drop the 3 star reviews as they are neutral\n",
    "\n",
    "df['stars']=df['stars_x'].astype(int) #convert stars column to int\n",
    "\n",
    "#df=df[df['stars']!=3] #Drop 3-star reviews\n",
    "df['label']=np.where(df['stars']>=4,1,0) #1-Positive, 0-Negative\n",
    "\n",
    "df.head()"
   ]
  },
  {
   "cell_type": "code",
   "execution_count": 16,
   "id": "554418dc",
   "metadata": {},
   "outputs": [
    {
     "data": {
      "text/plain": [
       "(2105, 5)"
      ]
     },
     "execution_count": 16,
     "metadata": {},
     "output_type": "execute_result"
    }
   ],
   "source": [
    "df.shape"
   ]
  },
  {
   "cell_type": "code",
   "execution_count": 26,
   "id": "59cf38e1",
   "metadata": {},
   "outputs": [
    {
     "data": {
      "text/plain": [
       "1    1754\n",
       "0     351\n",
       "Name: label, dtype: int64"
      ]
     },
     "metadata": {},
     "output_type": "display_data"
    },
    {
     "data": {
      "text/html": [
       "<div>\n",
       "<style scoped>\n",
       "    .dataframe tbody tr th:only-of-type {\n",
       "        vertical-align: middle;\n",
       "    }\n",
       "\n",
       "    .dataframe tbody tr th {\n",
       "        vertical-align: top;\n",
       "    }\n",
       "\n",
       "    .dataframe thead th {\n",
       "        text-align: right;\n",
       "    }\n",
       "</style>\n",
       "<table border=\"1\" class=\"dataframe\">\n",
       "  <thead>\n",
       "    <tr style=\"text-align: right;\">\n",
       "      <th></th>\n",
       "      <th>review_id</th>\n",
       "      <th>text</th>\n",
       "      <th>stars_x</th>\n",
       "      <th>stars</th>\n",
       "      <th>label</th>\n",
       "    </tr>\n",
       "  </thead>\n",
       "  <tbody>\n",
       "    <tr>\n",
       "      <th>0</th>\n",
       "      <td>zM7u3iffMjniyvQAaN9Tnw</td>\n",
       "      <td>So disappointing on so many levels. Have been ...</td>\n",
       "      <td>1</td>\n",
       "      <td>1</td>\n",
       "      <td>0</td>\n",
       "    </tr>\n",
       "    <tr>\n",
       "      <th>1</th>\n",
       "      <td>EHPGNBfnS7pZTyOwgEczsg</td>\n",
       "      <td>I had a delicious breakfast at Tuttini a few m...</td>\n",
       "      <td>2</td>\n",
       "      <td>2</td>\n",
       "      <td>0</td>\n",
       "    </tr>\n",
       "    <tr>\n",
       "      <th>2</th>\n",
       "      <td>_Ub20uO1MKy4XOVPOdzpqw</td>\n",
       "      <td>Sat down over a half hour, only miso and drink...</td>\n",
       "      <td>1</td>\n",
       "      <td>1</td>\n",
       "      <td>0</td>\n",
       "    </tr>\n",
       "    <tr>\n",
       "      <th>3</th>\n",
       "      <td>MhCgIdMwdUjeDIZvCgGxmw</td>\n",
       "      <td>Worst nail salon experience ever. The guy said...</td>\n",
       "      <td>1</td>\n",
       "      <td>1</td>\n",
       "      <td>0</td>\n",
       "    </tr>\n",
       "    <tr>\n",
       "      <th>4</th>\n",
       "      <td>NoPOfj7gC1l48dC0XH7Spw</td>\n",
       "      <td>I went in when they had 4 people working, wait...</td>\n",
       "      <td>1</td>\n",
       "      <td>1</td>\n",
       "      <td>0</td>\n",
       "    </tr>\n",
       "    <tr>\n",
       "      <th>...</th>\n",
       "      <td>...</td>\n",
       "      <td>...</td>\n",
       "      <td>...</td>\n",
       "      <td>...</td>\n",
       "      <td>...</td>\n",
       "    </tr>\n",
       "    <tr>\n",
       "      <th>2100</th>\n",
       "      <td>CmWY4YJNNYAZ4RClnGS9QQ</td>\n",
       "      <td>This is my first time, Great place nice food a...</td>\n",
       "      <td>5</td>\n",
       "      <td>5</td>\n",
       "      <td>1</td>\n",
       "    </tr>\n",
       "    <tr>\n",
       "      <th>2101</th>\n",
       "      <td>dR-V0xtwPMP6ggbhjuxHKQ</td>\n",
       "      <td>Delicious food! Cold beer! Great staff!\\nMy on...</td>\n",
       "      <td>4</td>\n",
       "      <td>4</td>\n",
       "      <td>1</td>\n",
       "    </tr>\n",
       "    <tr>\n",
       "      <th>2102</th>\n",
       "      <td>e130OlBIgHDO-2KqiWSbDA</td>\n",
       "      <td>WiFi? Cider? Food? Dog friendly? Great service...</td>\n",
       "      <td>5</td>\n",
       "      <td>5</td>\n",
       "      <td>1</td>\n",
       "    </tr>\n",
       "    <tr>\n",
       "      <th>2103</th>\n",
       "      <td>avAsbVWsLmXszusNkCW2Rg</td>\n",
       "      <td>Great food. Full of locals. Clean, fast and fr...</td>\n",
       "      <td>5</td>\n",
       "      <td>5</td>\n",
       "      <td>1</td>\n",
       "    </tr>\n",
       "    <tr>\n",
       "      <th>2104</th>\n",
       "      <td>Dw_ERN73HV97g1IpUsYkxw</td>\n",
       "      <td>My family has been coming here for generations...</td>\n",
       "      <td>5</td>\n",
       "      <td>5</td>\n",
       "      <td>1</td>\n",
       "    </tr>\n",
       "  </tbody>\n",
       "</table>\n",
       "<p>2105 rows × 5 columns</p>\n",
       "</div>"
      ],
      "text/plain": [
       "                   review_id  \\\n",
       "0     zM7u3iffMjniyvQAaN9Tnw   \n",
       "1     EHPGNBfnS7pZTyOwgEczsg   \n",
       "2     _Ub20uO1MKy4XOVPOdzpqw   \n",
       "3     MhCgIdMwdUjeDIZvCgGxmw   \n",
       "4     NoPOfj7gC1l48dC0XH7Spw   \n",
       "...                      ...   \n",
       "2100  CmWY4YJNNYAZ4RClnGS9QQ   \n",
       "2101  dR-V0xtwPMP6ggbhjuxHKQ   \n",
       "2102  e130OlBIgHDO-2KqiWSbDA   \n",
       "2103  avAsbVWsLmXszusNkCW2Rg   \n",
       "2104  Dw_ERN73HV97g1IpUsYkxw   \n",
       "\n",
       "                                                   text  stars_x  stars  label  \n",
       "0     So disappointing on so many levels. Have been ...        1      1      0  \n",
       "1     I had a delicious breakfast at Tuttini a few m...        2      2      0  \n",
       "2     Sat down over a half hour, only miso and drink...        1      1      0  \n",
       "3     Worst nail salon experience ever. The guy said...        1      1      0  \n",
       "4     I went in when they had 4 people working, wait...        1      1      0  \n",
       "...                                                 ...      ...    ...    ...  \n",
       "2100  This is my first time, Great place nice food a...        5      5      1  \n",
       "2101  Delicious food! Cold beer! Great staff!\\nMy on...        4      4      1  \n",
       "2102  WiFi? Cider? Food? Dog friendly? Great service...        5      5      1  \n",
       "2103  Great food. Full of locals. Clean, fast and fr...        5      5      1  \n",
       "2104  My family has been coming here for generations...        5      5      1  \n",
       "\n",
       "[2105 rows x 5 columns]"
      ]
     },
     "execution_count": 26,
     "metadata": {},
     "output_type": "execute_result"
    }
   ],
   "source": [
    "f = df.sample(frac=1).reset_index(drop=True) #shuffle\n",
    "data=df[df['label']==0][:2300]\n",
    "data=data.append(df[df['label']==1][:10000])\n",
    "data = data.reset_index(drop=True)\n",
    "display(data['label'].value_counts())\n",
    "data\n"
   ]
  },
  {
   "cell_type": "code",
   "execution_count": 27,
   "id": "a24dcd22",
   "metadata": {},
   "outputs": [],
   "source": [
    "# Convert all reviews into the lower case\n",
    "data['pre_process'] = data['text'].apply(lambda x: ' '.join(x.lower() for x in str(x).split()))"
   ]
  },
  {
   "cell_type": "code",
   "execution_count": 28,
   "id": "2889a147",
   "metadata": {},
   "outputs": [],
   "source": [
    "# Perform the Contractions on the reviews text, eg 'it won't be' becomes 'it will not be'\n",
    "def contractions(s):\n",
    " s = re.sub(r\"won't\", \"will not\",s)\n",
    " s = re.sub(r\"would't\", \"would not\",s)\n",
    " s = re.sub(r\"could't\", \"could not\",s)\n",
    " s = re.sub(r\"\\'d\", \" would\",s)\n",
    " s = re.sub(r\"can\\'t\", \"can not\",s)\n",
    " s = re.sub(r\"n\\'t\", \" not\", s)\n",
    " s= re.sub(r\"\\'re\", \" are\", s)\n",
    " s = re.sub(r\"\\'s\", \" is\", s)\n",
    " s = re.sub(r\"\\'ll\", \" will\", s)\n",
    " s = re.sub(r\"\\'t\", \" not\", s)\n",
    " s = re.sub(r\"\\'ve\", \" have\", s)\n",
    " s = re.sub(r\"\\'m\", \" am\", s)\n",
    " return s\n",
    "data['pre_process']=data['pre_process'].apply(lambda x:contractions(x))\n"
   ]
  },
  {
   "cell_type": "code",
   "execution_count": 29,
   "id": "c58a182d",
   "metadata": {},
   "outputs": [],
   "source": [
    "# Remove non-alpha characters\n",
    "data['pre_process']=data['pre_process'].apply(lambda x: \" \".join([re.sub('[^A-Za-z]+','', x) for x in nltk.word_tokenize(x)]))"
   ]
  },
  {
   "cell_type": "code",
   "execution_count": 30,
   "id": "416dbf63",
   "metadata": {},
   "outputs": [],
   "source": [
    "# Remove the extra spaces between the words\n",
    "data['pre_process']=data['pre_process'].apply(lambda x: re.sub(' +', ' ', x))\n"
   ]
  },
  {
   "cell_type": "code",
   "execution_count": 31,
   "id": "16f64d74",
   "metadata": {},
   "outputs": [],
   "source": [
    "# Remove the stop words by using the NLTK package\n",
    "from nltk.corpus import stopwords\n",
    "stop = stopwords.words('english')\n",
    "data['pre_process']=data['pre_process'].apply(lambda x: \" \".join([x for x in x.split() if x not in stop]))"
   ]
  },
  {
   "cell_type": "code",
   "execution_count": 32,
   "id": "5105c23a",
   "metadata": {},
   "outputs": [],
   "source": [
    "# Perform lemmatization using the wordnet lemmatizer\n",
    "from nltk.stem import WordNetLemmatizer\n",
    "lemmatizer = WordNetLemmatizer()\n",
    "data['pre_process']=data['pre_process'].apply(lambda x: \" \".join([lemmatizer.lemmatize(w) for w in nltk.word_tokenize(x)]))"
   ]
  },
  {
   "cell_type": "code",
   "execution_count": 33,
   "id": "13ef9316",
   "metadata": {},
   "outputs": [
    {
     "name": "stdout",
     "output_type": "stream",
     "text": [
      "0       disappointing many level coming year quality f...\n",
      "1       delicious breakfast tuttini month ago went bac...\n",
      "2       sat half hour miso drink served waiting actual...\n",
      "3       worst nail salon experience ever guy said wron...\n",
      "4       went people working waited minute tea latte ca...\n",
      "                              ...                        \n",
      "2100    first time great place nice food drink two thu...\n",
      "2101    delicious food cold beer great staff complaint...\n",
      "2102    wifi cider food dog friendly great service yes...\n",
      "2103    great food full local clean fast fresh food re...\n",
      "2104    family coming generation hope one day bring il...\n",
      "Name: pre_process, Length: 2105, dtype: object\n"
     ]
    }
   ],
   "source": [
    "post_process = data['pre_process']\n",
    "\n",
    "print(post_process)"
   ]
  },
  {
   "cell_type": "code",
   "execution_count": 34,
   "id": "330e9030",
   "metadata": {},
   "outputs": [
    {
     "data": {
      "text/plain": [
       "review_id      object\n",
       "text           object\n",
       "stars_x         int64\n",
       "stars           int32\n",
       "label           int32\n",
       "pre_process    object\n",
       "dtype: object"
      ]
     },
     "execution_count": 34,
     "metadata": {},
     "output_type": "execute_result"
    }
   ],
   "source": [
    "data.dtypes"
   ]
  },
  {
   "cell_type": "code",
   "execution_count": 35,
   "id": "859c3e57",
   "metadata": {},
   "outputs": [
    {
     "name": "stdout",
     "output_type": "stream",
     "text": [
      "Train:  (1578,) (1578,) Test:  ((527,), (527,))\n"
     ]
    }
   ],
   "source": [
    "from sklearn.model_selection import train_test_split\n",
    "\n",
    "X_train,X_test,y_train, y_test = train_test_split(data['pre_process'], data['label'], test_size=0.25, random_state=30)\n",
    "print(\"Train: \",X_train.shape,y_train.shape,\"Test: \",(X_test.shape,y_test.shape))"
   ]
  },
  {
   "cell_type": "code",
   "execution_count": 36,
   "id": "f247bc15",
   "metadata": {},
   "outputs": [
    {
     "name": "stdout",
     "output_type": "stream",
     "text": [
      "TFIDF Vectorizer……\n"
     ]
    }
   ],
   "source": [
    "print(\"TFIDF Vectorizer……\")\n",
    "from sklearn.feature_extraction.text import TfidfVectorizer\n",
    "vectorizer= TfidfVectorizer()\n",
    "tf_x_train = vectorizer.fit_transform(X_train)\n",
    "tf_x_test = vectorizer.transform(X_test)"
   ]
  },
  {
   "cell_type": "code",
   "execution_count": 37,
   "id": "7079ac6b",
   "metadata": {},
   "outputs": [],
   "source": [
    "# Implementing SVM with sklearn for classification\n",
    "from sklearn.svm import LinearSVC\n",
    "clf = LinearSVC(random_state=0)"
   ]
  },
  {
   "cell_type": "code",
   "execution_count": 38,
   "id": "8638e5fd",
   "metadata": {},
   "outputs": [
    {
     "data": {
      "text/plain": [
       "LinearSVC(random_state=0)"
      ]
     },
     "execution_count": 38,
     "metadata": {},
     "output_type": "execute_result"
    }
   ],
   "source": [
    "# Fitting the Training data into model\n",
    "clf.fit(tf_x_train,y_train)"
   ]
  },
  {
   "cell_type": "code",
   "execution_count": 39,
   "id": "ec472d37",
   "metadata": {},
   "outputs": [
    {
     "data": {
      "text/plain": [
       "review_id      object\n",
       "text           object\n",
       "stars_x         int64\n",
       "stars           int32\n",
       "label           int32\n",
       "pre_process    object\n",
       "dtype: object"
      ]
     },
     "execution_count": 39,
     "metadata": {},
     "output_type": "execute_result"
    }
   ],
   "source": [
    "data.dtypes"
   ]
  },
  {
   "cell_type": "code",
   "execution_count": 40,
   "id": "ee0de45d",
   "metadata": {},
   "outputs": [],
   "source": [
    "# Predicting the Test data\n",
    "y_test_pred=clf.predict(tf_x_test)"
   ]
  },
  {
   "cell_type": "code",
   "execution_count": 41,
   "id": "24c07607",
   "metadata": {},
   "outputs": [
    {
     "data": {
      "text/plain": [
       "<AxesSubplot:>"
      ]
     },
     "execution_count": 41,
     "metadata": {},
     "output_type": "execute_result"
    },
    {
     "data": {
      "image/png": "[encoded data removed]",
      "text/plain": [
       "<Figure size 640x480 with 2 Axes>"
      ]
     },
     "metadata": {},
     "output_type": "display_data"
    }
   ],
   "source": [
    "from sklearn import metrics\n",
    "import seaborn as sns\n",
    "#pred = voting.predict(x_test_tfidf)\n",
    "cm=metrics.confusion_matrix(y_test, y_test_pred)\n",
    "cm = pd.DataFrame(cm, index = [\"Negative\", \"Positive\"], columns=[\"Negative\", \"Positive\"])\n",
    "sns.heatmap(cm, annot = True)\n",
    "#plt.title(\"Confusion Matrix for Reviews Classifier\")"
   ]
  },
  {
   "cell_type": "code",
   "execution_count": 42,
   "id": "5dd0597f",
   "metadata": {},
   "outputs": [
    {
     "data": {
      "text/plain": [
       "{'0': {'precision': 0.8431372549019608,\n",
       "  'recall': 0.5180722891566265,\n",
       "  'f1-score': 0.6417910447761195,\n",
       "  'support': 83},\n",
       " '1': {'precision': 0.9159663865546218,\n",
       "  'recall': 0.9819819819819819,\n",
       "  'f1-score': 0.9478260869565216,\n",
       "  'support': 444},\n",
       " 'accuracy': 0.9089184060721063,\n",
       " 'macro avg': {'precision': 0.8795518207282913,\n",
       "  'recall': 0.7500271355693042,\n",
       "  'f1-score': 0.7948085658663205,\n",
       "  'support': 527},\n",
       " 'weighted avg': {'precision': 0.9044961438085671,\n",
       "  'recall': 0.9089184060721063,\n",
       "  'f1-score': 0.8996270195922458,\n",
       "  'support': 527}}"
      ]
     },
     "execution_count": 42,
     "metadata": {},
     "output_type": "execute_result"
    }
   ],
   "source": [
    "# Analyzing the results\n",
    "from sklearn.metrics import classification_report\n",
    "report=classification_report(y_test, y_test_pred,output_dict=True)\n",
    "report\n"
   ]
  },
  {
   "cell_type": "code",
   "execution_count": 43,
   "id": "63c5d160",
   "metadata": {},
   "outputs": [
    {
     "data": {
      "text/plain": [
       "Counter({0: 1310, 1: 1310})"
      ]
     },
     "execution_count": 43,
     "metadata": {},
     "output_type": "execute_result"
    }
   ],
   "source": [
    "# implement random oversampling\n",
    "from collections import Counter\n",
    "from imblearn.over_sampling import RandomOverSampler\n",
    "ros = RandomOverSampler(random_state=1)\n",
    "X_resampled, y_resampled = ros.fit_resample(tf_x_train, y_train)\n",
    "\n",
    "Counter(y_resampled)"
   ]
  },
  {
   "cell_type": "code",
   "execution_count": 44,
   "id": "b8131bd9",
   "metadata": {},
   "outputs": [
    {
     "data": {
      "text/plain": [
       "LogisticRegression(random_state=1)"
      ]
     },
     "execution_count": 44,
     "metadata": {},
     "output_type": "execute_result"
    }
   ],
   "source": [
    "# Logistic regression using random oversampled data\n",
    "from sklearn.linear_model import LogisticRegression\n",
    "\n",
    "model = LogisticRegression(solver='lbfgs', random_state=1)\n",
    "model.fit(X_resampled, y_resampled)"
   ]
  },
  {
   "cell_type": "code",
   "execution_count": 45,
   "id": "ecdf902b",
   "metadata": {},
   "outputs": [
    {
     "data": {
      "text/plain": [
       "array([[ 58,  25],\n",
       "       [ 26, 418]], dtype=int64)"
      ]
     },
     "execution_count": 45,
     "metadata": {},
     "output_type": "execute_result"
    }
   ],
   "source": [
    "# Display the confusion matrix\n",
    "from sklearn.metrics import confusion_matrix\n",
    "\n",
    "y_pred = model.predict(tf_x_test)\n",
    "confusion_matrix(y_test, y_pred)"
   ]
  },
  {
   "cell_type": "code",
   "execution_count": 47,
   "id": "946904c1",
   "metadata": {},
   "outputs": [
    {
     "data": {
      "text/plain": [
       "0.8201183110821666"
      ]
     },
     "execution_count": 47,
     "metadata": {},
     "output_type": "execute_result"
    }
   ],
   "source": [
    "from sklearn.metrics import balanced_accuracy_score\n",
    "\n",
    "balanced_accuracy_score(y_test, y_pred)"
   ]
  },
  {
   "cell_type": "code",
   "execution_count": 48,
   "id": "360998b5",
   "metadata": {},
   "outputs": [
    {
     "name": "stdout",
     "output_type": "stream",
     "text": [
      "                   pre       rec       spe        f1       geo       iba       sup\n",
      "\n",
      "          0       0.69      0.70      0.94      0.69      0.81      0.64        83\n",
      "          1       0.94      0.94      0.70      0.94      0.81      0.67       444\n",
      "\n",
      "avg / total       0.90      0.90      0.74      0.90      0.81      0.67       527\n",
      "\n"
     ]
    }
   ],
   "source": [
    "# Print the imbalanced classification report\n",
    "from imblearn.metrics import classification_report_imbalanced\n",
    "print(classification_report_imbalanced(y_test, y_pred))"
   ]
  },
  {
   "cell_type": "code",
   "execution_count": 49,
   "id": "3dfad037",
   "metadata": {},
   "outputs": [
    {
     "data": {
      "text/plain": [
       "Counter({0: 1310, 1: 1310})"
      ]
     },
     "execution_count": 49,
     "metadata": {},
     "output_type": "execute_result"
    }
   ],
   "source": [
    "#SMOTE resampling\n",
    "\n",
    "from collections import Counter\n",
    "\n",
    "from imblearn.over_sampling import SMOTE\n",
    "X_resampled, y_resampled = SMOTE(random_state=1, sampling_strategy='auto').fit_resample(\n",
    "    tf_x_train, y_train\n",
    ")\n",
    "Counter(y_resampled)"
   ]
  },
  {
   "cell_type": "code",
   "execution_count": 50,
   "id": "81c91fb9",
   "metadata": {},
   "outputs": [
    {
     "data": {
      "text/plain": [
       "0.8201183110821666"
      ]
     },
     "execution_count": 50,
     "metadata": {},
     "output_type": "execute_result"
    }
   ],
   "source": [
    "# Calculated the balanced accuracy score\n",
    "smote_y_pred = model.predict(tf_x_test)\n",
    "balanced_accuracy_score(y_test, y_pred)"
   ]
  },
  {
   "cell_type": "code",
   "execution_count": 51,
   "id": "3bce6e6a",
   "metadata": {},
   "outputs": [
    {
     "data": {
      "text/plain": [
       "array([[ 58,  25],\n",
       "       [ 26, 418]], dtype=int64)"
      ]
     },
     "execution_count": 51,
     "metadata": {},
     "output_type": "execute_result"
    }
   ],
   "source": [
    "# Display the confusion matrix\n",
    "from sklearn.metrics import confusion_matrix\n",
    "\n",
    "y_pred = model.predict(tf_x_test)\n",
    "confusion_matrix(y_test, smote_y_pred)"
   ]
  },
  {
   "cell_type": "code",
   "execution_count": 52,
   "id": "f706d92b",
   "metadata": {},
   "outputs": [
    {
     "name": "stdout",
     "output_type": "stream",
     "text": [
      "                   pre       rec       spe        f1       geo       iba       sup\n",
      "\n",
      "          0       0.69      0.70      0.94      0.69      0.81      0.64        83\n",
      "          1       0.94      0.94      0.70      0.94      0.81      0.67       444\n",
      "\n",
      "avg / total       0.90      0.90      0.74      0.90      0.81      0.67       527\n",
      "\n"
     ]
    }
   ],
   "source": [
    "# Print the imbalanced classification report\n",
    "from imblearn.metrics import classification_report_imbalanced\n",
    "print(classification_report_imbalanced(y_test, smote_y_pred))"
   ]
  },
  {
   "cell_type": "code",
   "execution_count": 53,
   "id": "833d7c83",
   "metadata": {},
   "outputs": [],
   "source": [
    "#SMOTEEN\n",
    "from imblearn.combine import SMOTEENN\n",
    "smote_enn = SMOTEENN(random_state=0)\n",
    "X_resampled, y_resampled = smote_enn.fit_resample(tf_x_train, y_train)"
   ]
  },
  {
   "cell_type": "code",
   "execution_count": 54,
   "id": "3bdb369f",
   "metadata": {},
   "outputs": [
    {
     "data": {
      "text/plain": [
       "LogisticRegression(random_state=1)"
      ]
     },
     "execution_count": 54,
     "metadata": {},
     "output_type": "execute_result"
    }
   ],
   "source": [
    "from sklearn.linear_model import LogisticRegression\n",
    "model = LogisticRegression(solver='lbfgs', random_state=1)\n",
    "model.fit(X_resampled, y_resampled)"
   ]
  },
  {
   "cell_type": "code",
   "execution_count": 55,
   "id": "8107a592",
   "metadata": {},
   "outputs": [
    {
     "data": {
      "text/plain": [
       "array([[ 83,   0],\n",
       "       [444,   0]], dtype=int64)"
      ]
     },
     "execution_count": 55,
     "metadata": {},
     "output_type": "execute_result"
    }
   ],
   "source": [
    "from sklearn.metrics import confusion_matrix\n",
    "y_pred = model.predict(tf_x_test)\n",
    "confusion_matrix(y_test, y_pred)"
   ]
  },
  {
   "cell_type": "code",
   "execution_count": 56,
   "id": "c207169c",
   "metadata": {},
   "outputs": [
    {
     "data": {
      "text/plain": [
       "0.5"
      ]
     },
     "execution_count": 56,
     "metadata": {},
     "output_type": "execute_result"
    }
   ],
   "source": [
    "from sklearn.metrics import balanced_accuracy_score\n",
    "balanced_accuracy_score(y_test, y_pred)"
   ]
  },
  {
   "cell_type": "code",
   "execution_count": 57,
   "id": "951b60b9",
   "metadata": {},
   "outputs": [
    {
     "name": "stdout",
     "output_type": "stream",
     "text": [
      "                   pre       rec       spe        f1       geo       iba       sup\n",
      "\n",
      "          0       0.16      1.00      0.00      0.27      0.00      0.00        83\n",
      "          1       0.00      0.00      1.00      0.00      0.00      0.00       444\n",
      "\n",
      "avg / total       0.02      0.16      0.84      0.04      0.00      0.00       527\n",
      "\n"
     ]
    },
    {
     "name": "stderr",
     "output_type": "stream",
     "text": [
      "C:\\Users\\david\\anaconda3\\envs\\mlenv\\lib\\site-packages\\sklearn\\metrics\\_classification.py:1318: UndefinedMetricWarning: Precision and F-score are ill-defined and being set to 0.0 in labels with no predicted samples. Use `zero_division` parameter to control this behavior.\n",
      "  _warn_prf(average, modifier, msg_start, len(result))\n"
     ]
    }
   ],
   "source": [
    "from imblearn.metrics import classification_report_imbalanced\n",
    "print(classification_report_imbalanced(y_test, y_pred))"
   ]
  },
  {
   "cell_type": "code",
   "execution_count": null,
   "id": "d3c1804e",
   "metadata": {},
   "outputs": [],
   "source": []
  }
 ],
 "metadata": {
  "kernelspec": {
   "display_name": "mlenv",
   "language": "python",
   "name": "mlenv"
  },
  "language_info": {
   "codemirror_mode": {
    "name": "ipython",
    "version": 3
   },
   "file_extension": ".py",
   "mimetype": "text/x-python",
   "name": "python",
   "nbconvert_exporter": "python",
   "pygments_lexer": "ipython3",
   "version": "3.7.13"
  }
 },
 "nbformat": 4,
 "nbformat_minor": 5
}
